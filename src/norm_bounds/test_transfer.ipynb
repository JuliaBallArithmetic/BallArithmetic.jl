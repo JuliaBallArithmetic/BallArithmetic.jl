{
 "cells": [
  {
   "cell_type": "code",
   "execution_count": null,
   "id": "9cc57dcc",
   "metadata": {},
   "outputs": [],
   "source": [
    "import Pkg;\n",
    "Pkg.activate(\".\")\n",
    "Pkg.add(\"RigorousInvariantMeasures\")\n",
    "Pkg.add(\"../\")"
   ]
  }
 ],
 "metadata": {
  "language_info": {
   "name": "python"
  }
 },
 "nbformat": 4,
 "nbformat_minor": 5
}
