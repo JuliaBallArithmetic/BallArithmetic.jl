{
 "cells": [
  {
   "cell_type": "code",
   "execution_count": 12,
   "id": "9cc57dcc",
   "metadata": {},
   "outputs": [
    {
     "name": "stderr",
     "output_type": "stream",
     "text": [
      "\u001b[32m\u001b[1m  Activating\u001b[22m\u001b[39m project at `~/Code/BallArithmetic.jl/notebook`\n",
      "\u001b[32m\u001b[1m   Resolving\u001b[22m\u001b[39m package versions...\n",
      "\u001b[32m\u001b[1m  No Changes\u001b[22m\u001b[39m to `~/Code/BallArithmetic.jl/notebook/Project.toml`\n",
      "\u001b[32m\u001b[1m  No Changes\u001b[22m\u001b[39m to `~/Code/BallArithmetic.jl/notebook/Manifest.toml`\n",
      "\u001b[32m\u001b[1m   Resolving\u001b[22m\u001b[39m package versions...\n",
      "\u001b[32m\u001b[1m  No Changes\u001b[22m\u001b[39m to `~/Code/BallArithmetic.jl/notebook/Project.toml`\n",
      "\u001b[32m\u001b[1m  No Changes\u001b[22m\u001b[39m to `~/Code/BallArithmetic.jl/notebook/Manifest.toml`\n",
      "\u001b[32m\u001b[1m   Resolving\u001b[22m\u001b[39m package versions...\n",
      "\u001b[32m\u001b[1m    Updating\u001b[22m\u001b[39m `~/Code/BallArithmetic.jl/notebook/Project.toml`\n",
      "\u001b[33m⌅\u001b[39m \u001b[90m[d1acc4aa] \u001b[39m\u001b[92m+ IntervalArithmetic v0.20.9\u001b[39m\n",
      "\u001b[32m\u001b[1m  No Changes\u001b[22m\u001b[39m to `~/Code/BallArithmetic.jl/notebook/Manifest.toml`\n"
     ]
    }
   ],
   "source": [
    "import Pkg;\n",
    "Pkg.activate(\".\")\n",
    "Pkg.develop(path = \"../\")\n",
    "Pkg.add(\"RigorousInvariantMeasures\")\n",
    "Pkg.add(\"IntervalArithmetic\")"
   ]
  },
  {
   "cell_type": "code",
   "execution_count": 7,
   "id": "b5c86200",
   "metadata": {},
   "outputs": [
    {
     "data": {
      "text/plain": [
       "B (generic function with 1 method)"
      ]
     },
     "metadata": {},
     "output_type": "display_data"
    }
   ],
   "source": [
    "r = sqrt(2)*(3/8) \n",
    "ϕ = π / 8\n",
    "\n",
    "max_r = 10.0\n",
    "μ = r * exp(im * ϕ)\n",
    "B(z; μ=μ) = (z * (μ - z)) / (1 - μ' * z)"
   ]
  },
  {
   "cell_type": "code",
   "execution_count": 8,
   "id": "2220d441",
   "metadata": {},
   "outputs": [
    {
     "data": {
      "text/plain": [
       "257"
      ]
     },
     "metadata": {},
     "output_type": "display_data"
    }
   ],
   "source": [
    "K = 128\n",
    "N = 2*K+1"
   ]
  },
  {
   "cell_type": "code",
   "execution_count": 10,
   "id": "38c42e1a",
   "metadata": {},
   "outputs": [
    {
     "data": {
      "text/plain": [
       "S (generic function with 1 method)"
      ]
     },
     "metadata": {},
     "output_type": "display_data"
    }
   ],
   "source": [
    "S(x) = 0.5 + atan((sin(2 * pi * x) - r * sin(ϕ)) / (cos(2 * pi * x) - r * cos(ϕ))) / pi"
   ]
  },
  {
   "cell_type": "code",
   "execution_count": 11,
   "id": "7dd66a46",
   "metadata": {},
   "outputs": [
    {
     "name": "stderr",
     "output_type": "stream",
     "text": [
      "┌ Warning: This basis breaks the usual interface of the package, i.e., \n",
      "│     the dynamic is input as a function instead than a PwMap\n",
      "└ @ RigorousInvariantMeasures /home/isaia/.julia/packages/RigorousInvariantMeasures/xFVMn/src/Basis/Fourier/FourierAdjoint.jl:21\n",
      "┌ Info: Assembling operator, the Newton stopping options are \n",
      "│       ϵ = 1.0e-14, max_iter = 100\n",
      "└ @ RigorousInvariantMeasures /home/isaia/.julia/packages/RigorousInvariantMeasures/xFVMn/src/GenericAssembler.jl:145\n",
      "┌ Info: 257\n",
      "└ @ RigorousInvariantMeasures /home/isaia/.julia/packages/RigorousInvariantMeasures/xFVMn/src/Basis/Fourier/FourierCommon.jl:78\n",
      "┌ Info: 128\n",
      "└ @ RigorousInvariantMeasures /home/isaia/.julia/packages/RigorousInvariantMeasures/xFVMn/src/Basis/Fourier/FourierCommon.jl:82\n",
      "\u001b[32mProgress: 100%|█████████████████████████████████████████| Time: 0:00:22\u001b[39m\u001b[K\n"
     ]
    },
    {
     "data": {
      "text/plain": [
       "NonIntegralPreservingDiscretizedOperator{LinearAlgebra.Adjoint{Complex{Interval{Float64}}, Matrix{Complex{Interval{Float64}}}}, Vector{Float64}, LinearAlgebra.Adjoint{Complex{Interval{Float64}}, Vector{Complex{Interval{Float64}}}}}(Complex{Interval{Float64}}[[0.999999, 1.00001] + [-2.36499e-14, 2.36499e-14]im [-2.36499e-14, 2.36499e-14] + [-2.36499e-14, 2.36499e-14]im … [-2.36499e-14, 2.36499e-14] + [-2.36499e-14, 2.36499e-14]im [-2.36499e-14, 2.36499e-14] + [-2.36499e-14, 2.36499e-14]im; [-2.52571e-14, 2.51779e-14] + [-2.51918e-14, 2.52433e-14]im [0.489961, 0.489962] + [-0.202949, -0.202948]im … [-2.51781e-14, 2.52569e-14] + [-2.52052e-14, 2.52299e-14]im [-2.52009e-14, 2.52341e-14] + [-2.52042e-14, 2.52309e-14]im; … ; [-2.67841e-14, 2.66439e-14] + [-2.66741e-14, 2.67538e-14]im [-2.67214e-14, 2.67066e-14] + [-2.66643e-14, 2.67637e-14]im … [0.198873, 0.198874] + [0.198873, 0.198874]im [-2.67885e-14, 2.66394e-14] + [-2.66999e-14, 2.67281e-14]im; [-2.52571e-14, 2.51779e-14] + [-2.52433e-14, 2.51918e-14]im [-2.52009e-14, 2.52341e-14] + [-2.52309e-14, 2.52042e-14]im … [-0.718751, -0.718749] + [-2.49516e-14, 2.54835e-14]im [0.489961, 0.489962] + [0.202948, 0.202949]im], [1.0, 0.0, 0.0, 0.0, 0.0, 0.0, 0.0, 0.0, 0.0, 0.0  …  0.0, 0.0, 0.0, 0.0, 0.0, 0.0, 0.0, 0.0, 0.0, 0.0], Complex{Interval{Float64}}[[-2.37588e-14, 2.37588e-14] + [-2.36499e-14, 2.36499e-14]im [-2.36499e-14, 2.36499e-14] + [-2.36499e-14, 2.36499e-14]im … [-2.36499e-14, 2.36499e-14] + [-2.36499e-14, 2.36499e-14]im [-2.36499e-14, 2.36499e-14] + [-2.36499e-14, 2.36499e-14]im])"
      ]
     },
     "metadata": {},
     "output_type": "display_data"
    }
   ],
   "source": [
    "using RigorousInvariantMeasures\n",
    "FourierBasis = RigorousInvariantMeasures.FourierAdjoint(K, 65536)\n",
    "P = DiscretizedOperator(FourierBasis, S)"
   ]
  },
  {
   "cell_type": "code",
   "execution_count": 14,
   "id": "a166f13f",
   "metadata": {},
   "outputs": [
    {
     "data": {
      "text/plain": [
       "257×257 Matrix{ComplexF64}:\n",
       "          1.0+0.0im          …           0.0+0.0im\n",
       " -3.96034e-17+2.57794e-17im      1.66073e-17+1.33397e-17im\n",
       " -7.01021e-17-3.98377e-17im      -7.3907e-18-4.96904e-17im\n",
       "  -9.5043e-17+3.03949e-17im     -4.95793e-17+2.15554e-17im\n",
       " -3.30732e-17+2.91166e-18im      5.07291e-18-1.77247e-17im\n",
       " -1.05128e-16-2.66392e-17im  …  -5.56222e-17-4.34538e-17im\n",
       " -6.74739e-17+3.56499e-17im     -2.00917e-17+2.54033e-17im\n",
       " -4.79455e-17-3.80199e-17im     -2.06817e-18-3.83339e-17im\n",
       " -9.69294e-17+8.20722e-18im     -7.22674e-17-1.6493e-18im\n",
       " -4.48335e-17+1.82569e-17im      1.43218e-18+2.33856e-18im\n",
       "             ⋮               ⋱  \n",
       " -4.48335e-17-1.82569e-17im      1.41192e-18-3.92657e-17im\n",
       " -9.69294e-17-8.20722e-18im     -8.49951e-17-1.72367e-17im\n",
       " -4.79455e-17+3.80199e-17im  …  -3.28377e-17+2.37961e-17im\n",
       " -6.74739e-17-3.56499e-17im     -4.25445e-17-6.44368e-17im\n",
       " -1.05128e-16+2.66392e-17im     -7.92257e-17-1.19328e-18im\n",
       " -3.30732e-17-2.91166e-18im     -3.31124e-18-8.57733e-18im\n",
       "  -9.5043e-17-3.03949e-17im     -8.84407e-17-5.65375e-17im\n",
       " -7.01021e-17+3.98377e-17im  …  -7.45507e-17+1.40745e-17im\n",
       " -3.96034e-17-2.57794e-17im         0.489961+0.202949im"
      ]
     },
     "metadata": {},
     "output_type": "display_data"
    }
   ],
   "source": [
    "import IntervalArithmetic\n",
    "midI = IntervalArithmetic.mid\n",
    "radI = IntervalArithmetic.radius\n",
    "\n",
    "midP = midI.(real.(P.L)) + im * midI.(imag.(P.L))"
   ]
  },
  {
   "cell_type": "code",
   "execution_count": 17,
   "id": "d6c372fc",
   "metadata": {},
   "outputs": [
    {
     "data": {
      "text/plain": [
       "Schur{ComplexF64, Matrix{ComplexF64}, Vector{ComplexF64}}\n",
       "T factor:\n",
       "257×257 Matrix{ComplexF64}:\n",
       " 0.489961+0.202949im  3.86443e-14+1.0585e-13im  …   2.57794e-17-3.96034e-17im\n",
       "      0.0+0.0im          0.489961-0.202949im        4.19129e-17-2.18248e-17im\n",
       "      0.0+0.0im               0.0+0.0im            -8.04645e-17+5.17763e-18im\n",
       "      0.0+0.0im               0.0+0.0im             2.59806e-17-7.63306e-17im\n",
       "      0.0+0.0im               0.0+0.0im            -9.28421e-17-3.65704e-17im\n",
       "      0.0+0.0im               0.0+0.0im         …   -7.0194e-17-7.09213e-17im\n",
       "      0.0+0.0im               0.0+0.0im            -3.10424e-17+1.80534e-17im\n",
       "      0.0+0.0im               0.0+0.0im             1.01169e-16-3.59452e-17im\n",
       "      0.0+0.0im               0.0+0.0im             7.75986e-17+5.18234e-17im\n",
       "      0.0+0.0im               0.0+0.0im             1.49849e-17-1.14482e-16im\n",
       "         ⋮                                      ⋱  \n",
       "      0.0+0.0im               0.0+0.0im            -1.09397e-17+1.09377e-17im\n",
       "      0.0+0.0im               0.0+0.0im            -2.25156e-17-3.87363e-17im\n",
       "      0.0+0.0im               0.0+0.0im         …  -6.00616e-17-7.27911e-17im\n",
       "      0.0+0.0im               0.0+0.0im             8.23573e-17+4.43725e-17im\n",
       "      0.0+0.0im               0.0+0.0im            -8.59188e-17+4.83034e-17im\n",
       "      0.0+0.0im               0.0+0.0im            -8.30793e-17-5.16546e-18im\n",
       "      0.0+0.0im               0.0+0.0im             1.28109e-17-6.55943e-17im\n",
       "      0.0+0.0im               0.0+0.0im         …  -1.72484e-17+6.05311e-17im\n",
       "      0.0+0.0im               0.0+0.0im                     1.0+0.0im\n",
       "Z factor:\n",
       "257×257 Matrix{ComplexF64}:\n",
       "          0.0+0.0im                   0.0+0.0im          …  1.0+0.0im\n",
       "  1.28408e-13+1.30013e-14im     -0.995304+0.0968004im       0.0+0.0im\n",
       "  1.58226e-14-6.7743e-14im    2.27034e-13-2.52114e-13im     0.0+0.0im\n",
       "  -3.1363e-14-2.34265e-15im  -1.20283e-13+4.98604e-14im     0.0+0.0im\n",
       "  1.35183e-14+4.32632e-15im   6.36595e-14+1.5666e-14im      0.0+0.0im\n",
       "  3.16666e-15-3.11371e-14im  -3.59888e-14-1.60615e-14im  …  0.0+0.0im\n",
       " -6.63177e-15-7.73004e-15im   5.96318e-15+3.29455e-14im     0.0+0.0im\n",
       "  2.55344e-14+2.07811e-15im   -3.8433e-15-2.02507e-14im     0.0+0.0im\n",
       "  9.60254e-15-4.29225e-15im  -2.18284e-14+5.96078e-15im     0.0+0.0im\n",
       " -1.26292e-14+9.66054e-15im   1.33362e-14-4.14534e-15im     0.0+0.0im\n",
       "             ⋮                                           ⋱  \n",
       " -1.01391e-15+1.16485e-14im   5.48994e-15-1.3754e-14im      0.0+0.0im\n",
       "  2.71007e-15-2.71134e-14im  -2.50737e-15+1.36626e-14im     0.0+0.0im\n",
       " -1.78838e-14+3.23075e-15im   8.36583e-15+2.06669e-14im  …  0.0+0.0im\n",
       "  3.87924e-14-4.22459e-16im  -1.30198e-14-7.215e-15im       0.0+0.0im\n",
       " -2.48219e-14-2.71314e-14im  -2.54753e-14+1.24518e-14im     0.0+0.0im\n",
       "  3.94392e-14+6.56022e-14im    1.2079e-14+2.61705e-15im     0.0+0.0im\n",
       "  2.00882e-14-1.3776e-13im   -2.15052e-14-3.39391e-14im     0.0+0.0im\n",
       "  -1.9079e-13+3.0458e-13im   -6.22018e-14+4.91107e-14im  …  0.0+0.0im\n",
       "   1.75047e-8-1.0im          -2.53701e-14-1.26546e-13im     0.0+0.0im\n",
       "eigenvalues:\n",
       "257-element Vector{ComplexF64}:\n",
       "      0.4899611118288133 + 0.20294853755496278im\n",
       "     0.48996111182877744 - 0.20294853755498493im\n",
       "     0.19887378307771963 + 0.1988737815821285im\n",
       "     0.19887378300070788 - 0.19887378168324157im\n",
       "    0.057079897056630566 + 0.13779919685205835im\n",
       "      0.0570798936001523 - 0.1377995074431461im\n",
       "   -0.005775377936722949 + 0.07502395965238827im\n",
       "    0.004855638553857271 + 0.07316548064200709im\n",
       "   0.0036135644203717744 - 0.07287100480176734im\n",
       "   -0.004783993262944596 - 0.07431255418248706im\n",
       "                         ⋮\n",
       " -2.2748065810105097e-15 + 5.620485400587027e-16im\n",
       "   1.423469271238982e-15 + 1.2647043990791234e-15im\n",
       "   9.549423644608028e-16 - 1.8413780945280323e-16im\n",
       "  2.1129948414186707e-16 + 8.970490720431093e-16im\n",
       "  3.7588214671040887e-16 + 5.360570044277157e-16im\n",
       "  1.7441244080572053e-16 - 6.838933054070766e-16im\n",
       "  -4.755476477332899e-16 - 6.44209355755633e-16im\n",
       " -1.6344409598775547e-16 - 2.5677306881652826e-16im\n",
       "                     1.0 + 0.0im"
      ]
     },
     "metadata": {},
     "output_type": "display_data"
    }
   ],
   "source": [
    "using LinearAlgebra\n",
    "F = schur(midP)"
   ]
  },
  {
   "cell_type": "code",
   "execution_count": 46,
   "id": "3c9b2d48",
   "metadata": {},
   "outputs": [
    {
     "data": {
      "text/plain": [
       "257×257 BallMatrix{Float64, ComplexF64, Ball{Float64, ComplexF64}, Matrix{ComplexF64}, Matrix{Float64}}:\n",
       " 0.489961+0.202949im ± 0.0  …   2.57794e-17-3.96034e-17im ± 0.0\n",
       "           0.0+0.0im ± 0.0      4.19129e-17-2.18248e-17im ± 0.0\n",
       "           0.0+0.0im ± 0.0     -8.04645e-17+5.17763e-18im ± 0.0\n",
       "           0.0+0.0im ± 0.0      2.59806e-17-7.63306e-17im ± 0.0\n",
       "           0.0+0.0im ± 0.0     -9.28421e-17-3.65704e-17im ± 0.0\n",
       "           0.0+0.0im ± 0.0  …   -7.0194e-17-7.09213e-17im ± 0.0\n",
       "           0.0+0.0im ± 0.0     -3.10424e-17+1.80534e-17im ± 0.0\n",
       "           0.0+0.0im ± 0.0      1.01169e-16-3.59452e-17im ± 0.0\n",
       "           0.0+0.0im ± 0.0      7.75986e-17+5.18234e-17im ± 0.0\n",
       "           0.0+0.0im ± 0.0      1.49849e-17-1.14482e-16im ± 0.0\n",
       "                                                   ⋮  ⋱  \n",
       "           0.0+0.0im ± 0.0     -1.09397e-17+1.09377e-17im ± 0.0\n",
       "           0.0+0.0im ± 0.0     -2.25156e-17-3.87363e-17im ± 0.0\n",
       "           0.0+0.0im ± 0.0  …  -6.00616e-17-7.27911e-17im ± 0.0\n",
       "           0.0+0.0im ± 0.0      8.23573e-17+4.43725e-17im ± 0.0\n",
       "           0.0+0.0im ± 0.0     -8.59188e-17+4.83034e-17im ± 0.0\n",
       "           0.0+0.0im ± 0.0     -8.30793e-17-5.16546e-18im ± 0.0\n",
       "           0.0+0.0im ± 0.0      1.28109e-17-6.55943e-17im ± 0.0\n",
       "           0.0+0.0im ± 0.0  …  -1.72484e-17+6.05311e-17im ± 0.0\n",
       "           0.0+0.0im ± 0.0                      1.0+0.0im ± 0.0"
      ]
     },
     "metadata": {},
     "output_type": "display_data"
    }
   ],
   "source": [
    "using BallArithmetic\n",
    "bT = BallMatrix(F.T)"
   ]
  },
  {
   "cell_type": "code",
   "execution_count": 48,
   "id": "84b07992",
   "metadata": {},
   "outputs": [
    {
     "data": {
      "text/plain": [
       "101-element Vector{ComplexF64}:\n",
       "                 0.3 + 0.0im\n",
       "  0.2994080185284815 + 0.018837155858794013im\n",
       " 0.29763441039434335 + 0.03759997006929128im\n",
       "  0.2946861752186066 + 0.05621439437571738im\n",
       "  0.2905749483385893 + 0.07460696614945643im\n",
       "   0.285316954888546 + 0.09270509831248422im\n",
       "  0.2789329457664754 + 0.11043736580540338im\n",
       "  0.2714481157398058 + 0.1277337874695218im\n",
       " 0.26289200401315904 + 0.1445261022305146im\n",
       " 0.25329837765060453 + 0.16074803849369898im\n",
       "                     ⋮\n",
       " 0.26289200401315904 - 0.1445261022305146im\n",
       "  0.2714481157398059 - 0.12773378746952166im\n",
       "  0.2789329457664753 - 0.1104373658054036im\n",
       "   0.285316954888546 - 0.09270509831248429im\n",
       " 0.29057494833858927 - 0.0746069661494566im\n",
       "  0.2946861752186066 - 0.0562143943757174im\n",
       "  0.2976344103943433 - 0.037599970069291395im\n",
       "  0.2994080185284815 - 0.018837155858793978im\n",
       "                 0.3 - 7.347880794884119e-17im"
      ]
     },
     "metadata": {},
     "output_type": "display_data"
    }
   ],
   "source": [
    "lambda = 0.0\n",
    "R = 0.3\n",
    "\n",
    "arcs = [lambda+ R*cos(2*pi*t)+R*im*sin(2*pi*t) for t in 0:0.01:1]"
   ]
  },
  {
   "cell_type": "code",
   "execution_count": 67,
   "id": "42d2dfff",
   "metadata": {},
   "outputs": [
    {
     "name": "stdout",
     "output_type": "stream",
     "text": [
      "  80.329 ms (6760 allocations: 193.51 MiB)\n"
     ]
    },
    {
     "data": {
      "text/plain": [
       "257-element Vector{Ball{Float64, Float64}}:\n",
       "       1.000000000000004 ± 7.664979762012081e-13\n",
       "      1.0000000000000036 ± 7.664979762012081e-13\n",
       "      1.0000000000000022 ± 7.664979762012081e-13\n",
       "      1.0000000000000013 ± 7.664979762012081e-13\n",
       "      1.0000000000000013 ± 7.664979762012081e-13\n",
       "      1.0000000000000013 ± 7.664979762012081e-13\n",
       "      1.0000000000000009 ± 7.664979762012081e-13\n",
       "      1.0000000000000004 ± 7.664979762012081e-13\n",
       "      1.0000000000000004 ± 7.664979762012081e-13\n",
       "                     1.0 ± 7.664979762012081e-13\n",
       "                                                                      ⋮\n",
       "  1.6373033089876968e-16 ± 3.499369312581429e-13\n",
       "  1.2826167648939772e-16 ± 3.499369312581429e-13\n",
       "   1.102424962432956e-16 ± 3.499369312581429e-13\n",
       "   9.992007236195471e-17 ± 3.499369312581429e-13\n",
       "   9.992007236195471e-17 ± 3.499369312581429e-13\n",
       "   9.992007236195471e-17 ± 3.499369312581429e-13\n",
       "  6.800833041508323e-17 ± 3.4993693125814283e-13\n",
       " 4.0793815202114567e-17 ± 3.4993693125814283e-13\n",
       " 1.6026042592637424e-17 ± 3.4993693125814283e-13"
      ]
     },
     "metadata": {},
     "output_type": "display_data"
    }
   ],
   "source": [
    "@btime BallArithmetic.svdbox($bT)"
   ]
  },
  {
   "cell_type": "code",
   "execution_count": 52,
   "id": "811b5251",
   "metadata": {},
   "outputs": [
    {
     "data": {
      "text/plain": [
       "1.7293975052168635e6"
      ]
     },
     "metadata": {},
     "output_type": "display_data"
    }
   ],
   "source": [
    "BallArithmetic.svd_bound_L2_opnorm_inverse(bT - arcs[1]*I)"
   ]
  }
 ],
 "metadata": {
  "kernelspec": {
   "display_name": "Julia 1.11.6",
   "language": "julia",
   "name": "julia-1.11"
  },
  "language_info": {
   "file_extension": ".jl",
   "mimetype": "application/julia",
   "name": "julia",
   "version": "1.11.6"
  }
 },
 "nbformat": 4,
 "nbformat_minor": 5
}
